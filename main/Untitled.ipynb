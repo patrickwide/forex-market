{
 "cells": [
  {
   "cell_type": "code",
   "execution_count": null,
   "id": "1980ea4d",
   "metadata": {},
   "outputs": [],
   "source": [
    "! pip install schedule pandas candle_rankings itertools warnings numpy"
   ]
  },
  {
   "cell_type": "code",
   "execution_count": 9,
   "id": "1c1cea82",
   "metadata": {},
   "outputs": [],
   "source": [
    "import ccxt\n",
    "import config\n",
    "import schedule\n",
    "# import panda_learn as pd\n",
    "import pandas\n",
    "pandas.set_option('display.max_rows', None)\n",
    "from candle_rankings import candle_rankings\n",
    "\n",
    "from itertools import compress\n",
    "import warnings\n",
    "\n",
    "warnings.filterwarnings('ignore')\n",
    "\n",
    "import numpy as np\n",
    "from datetime import datetime\n",
    "import time"
   ]
  }
 ],
 "metadata": {
  "kernelspec": {
   "display_name": "Python 3",
   "language": "python",
   "name": "python3"
  },
  "language_info": {
   "codemirror_mode": {
    "name": "ipython",
    "version": 3
   },
   "file_extension": ".py",
   "mimetype": "text/x-python",
   "name": "python",
   "nbconvert_exporter": "python",
   "pygments_lexer": "ipython3",
   "version": "3.8.8"
  }
 },
 "nbformat": 4,
 "nbformat_minor": 5
}
